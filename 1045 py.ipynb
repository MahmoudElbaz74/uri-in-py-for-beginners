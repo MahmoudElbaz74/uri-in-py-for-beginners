{
 "cells": [
  {
   "cell_type": "code",
   "execution_count": 77,
   "metadata": {},
   "outputs": [
    {
     "name": "stdout",
     "output_type": "stream",
     "text": [
      "5\n",
      "7\n",
      "2\n"
     ]
    }
   ],
   "source": [
    "abc =[float(input()),float(input()),float(input())]\n",
    "a = max(abc)\n",
    "abc.remove(max(abc))\n",
    "c = min(abc)\n",
    "abc.remove(min(abc))\n",
    "b = abc[0]"
   ]
  },
  {
   "cell_type": "code",
   "execution_count": 78,
   "metadata": {},
   "outputs": [
    {
     "name": "stdout",
     "output_type": "stream",
     "text": [
      "NAO FORMA TRIANGULO\n",
      "TRIANGULO OBTUSANGULO\n"
     ]
    }
   ],
   "source": [
    "if (a >= b + c):\n",
    "    print ('NAO FORMA TRIANGULO')\n",
    "if (a**2 == b**2 + c**2):\n",
    "    print ('TRIANGULO RETANGULO')\n",
    "if (a**2 > b**2 + c**2):\n",
    "    print ('TRIANGULO OBTUSANGULO')\n",
    "if (a**2 < b**2 + c**2):\n",
    "    print ('TRIANGULO ACUTANGULO')\n",
    "if (a == b == c):\n",
    "    print ('TRIANGULO EQUILATERO')\n",
    "if (((a == b)and (a!=c))or((b == c)and(c!=a))or((a == c)and(a!=b))):\n",
    "    print('TRIANGULO ISOSCELES')"
   ]
  },
  {
   "cell_type": "code",
   "execution_count": null,
   "metadata": {},
   "outputs": [],
   "source": []
  }
 ],
 "metadata": {
  "kernelspec": {
   "display_name": "Python 3",
   "language": "python",
   "name": "python3"
  },
  "language_info": {
   "codemirror_mode": {
    "name": "ipython",
    "version": 3
   },
   "file_extension": ".py",
   "mimetype": "text/x-python",
   "name": "python",
   "nbconvert_exporter": "python",
   "pygments_lexer": "ipython3",
   "version": "3.7.3"
  }
 },
 "nbformat": 4,
 "nbformat_minor": 2
}
