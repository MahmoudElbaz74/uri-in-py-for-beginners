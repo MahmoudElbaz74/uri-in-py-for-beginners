{
 "cells": [
  {
   "cell_type": "code",
   "execution_count": 14,
   "metadata": {},
   "outputs": [
    {
     "name": "stdout",
     "output_type": "stream",
     "text": [
      "0\n",
      "-1\n"
     ]
    }
   ],
   "source": [
    "x = float (input())\n",
    "y = float (input())"
   ]
  },
  {
   "cell_type": "code",
   "execution_count": 15,
   "metadata": {},
   "outputs": [
    {
     "name": "stdout",
     "output_type": "stream",
     "text": [
      "Eixo Y\n"
     ]
    }
   ],
   "source": [
    "if (y > 0):\n",
    "    if (x > 0):\n",
    "        print ('Q1')\n",
    "    elif (x < 0):\n",
    "        print ('Q2')\n",
    "    else :\n",
    "        print ('Eixo Y')\n",
    "        \n",
    "elif (y < 0):\n",
    "    if (x > 0):\n",
    "        print ('Q4')\n",
    "    elif (x < 0):\n",
    "        print ('Q3')\n",
    "    else :\n",
    "        print ('Eixo Y')\n",
    "else :\n",
    "    if (x != 0):\n",
    "        print('Eixo X')\n",
    "    else:\n",
    "        print('Origem')"
   ]
  },
  {
   "cell_type": "code",
   "execution_count": null,
   "metadata": {},
   "outputs": [],
   "source": []
  }
 ],
 "metadata": {
  "kernelspec": {
   "display_name": "Python 3",
   "language": "python",
   "name": "python3"
  },
  "language_info": {
   "codemirror_mode": {
    "name": "ipython",
    "version": 3
   },
   "file_extension": ".py",
   "mimetype": "text/x-python",
   "name": "python",
   "nbconvert_exporter": "python",
   "pygments_lexer": "ipython3",
   "version": "3.7.3"
  }
 },
 "nbformat": 4,
 "nbformat_minor": 2
}
