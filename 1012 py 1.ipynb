{
 "cells": [
  {
   "cell_type": "code",
   "execution_count": 21,
   "metadata": {},
   "outputs": [
    {
     "name": "stdout",
     "output_type": "stream",
     "text": [
      "3\n",
      "4\n",
      "5.2\n"
     ]
    }
   ],
   "source": [
    "aa = float (input())\n",
    "bb = float (input())\n",
    "cc = float (input())\n",
    "pi = float (3.14159)"
   ]
  },
  {
   "cell_type": "code",
   "execution_count": 25,
   "metadata": {},
   "outputs": [],
   "source": [
    "a = 0.5 * aa * cc\n",
    "b = pi * cc**2\n",
    "c = 0.5*(aa+bb)*cc\n",
    "d = bb**2\n",
    "e = aa * bb"
   ]
  },
  {
   "cell_type": "code",
   "execution_count": 26,
   "metadata": {},
   "outputs": [],
   "source": [
    "a = round (a,3)\n",
    "b = round (b,3)\n",
    "c = round (c,3)\n",
    "d = round (d,3)\n",
    "e = round (e,3)"
   ]
  },
  {
   "cell_type": "code",
   "execution_count": 27,
   "metadata": {},
   "outputs": [
    {
     "name": "stdout",
     "output_type": "stream",
     "text": [
      "TRIANGULO: 7.8\n",
      "CIRCULO: 84.949\n",
      "TRAPEZIO: 18.2\n",
      "QUADRADO: 16.0\n",
      "RETANGULO: 12.0\n"
     ]
    }
   ],
   "source": [
    "print ('TRIANGULO: {}'.format(a))\n",
    "print ('CIRCULO: {}'.format(b))\n",
    "print ('TRAPEZIO: {}'.format(c))\n",
    "print ('QUADRADO: {}'.format(d))\n",
    "print ('RETANGULO: {}'.format(e))"
   ]
  },
  {
   "cell_type": "code",
   "execution_count": null,
   "metadata": {},
   "outputs": [],
   "source": []
  },
  {
   "cell_type": "code",
   "execution_count": null,
   "metadata": {},
   "outputs": [],
   "source": []
  }
 ],
 "metadata": {
  "kernelspec": {
   "display_name": "Python 3",
   "language": "python",
   "name": "python3"
  },
  "language_info": {
   "codemirror_mode": {
    "name": "ipython",
    "version": 3
   },
   "file_extension": ".py",
   "mimetype": "text/x-python",
   "name": "python",
   "nbconvert_exporter": "python",
   "pygments_lexer": "ipython3",
   "version": "3.7.3"
  }
 },
 "nbformat": 4,
 "nbformat_minor": 2
}
