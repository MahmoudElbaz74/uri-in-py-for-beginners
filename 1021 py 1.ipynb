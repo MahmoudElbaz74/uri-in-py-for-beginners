{
 "cells": [
  {
   "cell_type": "code",
   "execution_count": 16,
   "metadata": {},
   "outputs": [
    {
     "name": "stdout",
     "output_type": "stream",
     "text": [
      "576.73\n"
     ]
    }
   ],
   "source": [
    "n = float (input())\n",
    "n = 100 *n"
   ]
  },
  {
   "cell_type": "code",
   "execution_count": 42,
   "metadata": {},
   "outputs": [],
   "source": [
    "h = int (n/10000)\n",
    "f = int ((n-h*10000)/5000)\n",
    "t = int ((n-(h*10000+f*5000))/2000)\n",
    "e = int ((n-(h*10000+f*5000+t*2000))/1000)\n",
    "v = int ((n-(h*10000+f*5000+t*2000+e*1000))/500)\n",
    "w = int ((n-(h*10000+f*5000+t*2000+e*1000+v*500))/200)\n",
    "o = int ((n-(h*10000+f*5000+t*2000+e*1000+v*500+w*200))/100)\n",
    "ff = int ((n-(h*10000+f*5000+t*2000+e*1000+v*500+w*200+o*100))/50)\n",
    "tt = int ((n-(h*10000+f*5000+t*2000+e*1000+v*500+w*200+o*100+ff*50))/25)\n",
    "ee = int ((n-(h*10000+f*5000+t*2000+e*1000+v*500+w*200+o*100+ff*50+tt*25))/10)\n",
    "vv = int ((n-(h*10000+f*5000+t*2000+e*1000+v*500+w*200+o*100+ff*50+tt*25+ee*10))/5)\n",
    "oo = int ((n-(h*10000+f*5000+t*2000+e*1000+v*500+w*200+o*100+ff*50+tt*25+ee*10+vv*5))/1)"
   ]
  },
  {
   "cell_type": "code",
   "execution_count": 44,
   "metadata": {},
   "outputs": [
    {
     "name": "stdout",
     "output_type": "stream",
     "text": [
      "NOTAS:\n",
      "5 nota(s) de R$ 100.00\n",
      "1 nota(s) de R$ 50.00\n",
      "1 nota(s) de R$ 20.00\n",
      "0 nota(s) de R$ 10.00\n",
      "1 nota(s) de R$ 5.00\n",
      "0 nota(s) de R$ 2.00\n",
      "MOEDAS:\n",
      "1 moeda(s) de R$ 1.00\n",
      "1 moeda(s) de R$ 0.50\n",
      "0 moeda(s) de R$ 0.25\n",
      "2 moeda(s) de R$ 0.10\n",
      "0 moeda(s) de R$ 0.05\n",
      "3 moeda(s) de R$ 0.01\n"
     ]
    }
   ],
   "source": [
    "print('''NOTAS:\n",
    "{} nota(s) de R$ 100.00\n",
    "{} nota(s) de R$ 50.00\n",
    "{} nota(s) de R$ 20.00\n",
    "{} nota(s) de R$ 10.00\n",
    "{} nota(s) de R$ 5.00\n",
    "{} nota(s) de R$ 2.00\n",
    "MOEDAS:\n",
    "{} moeda(s) de R$ 1.00\n",
    "{} moeda(s) de R$ 0.50\n",
    "{} moeda(s) de R$ 0.25\n",
    "{} moeda(s) de R$ 0.10\n",
    "{} moeda(s) de R$ 0.05\n",
    "{} moeda(s) de R$ 0.01'''.format(h,f,t,e,v,w,o,ff,tt,ee,vv,oo))"
   ]
  },
  {
   "cell_type": "code",
   "execution_count": null,
   "metadata": {},
   "outputs": [],
   "source": []
  }
 ],
 "metadata": {
  "kernelspec": {
   "display_name": "Python 3",
   "language": "python",
   "name": "python3"
  },
  "language_info": {
   "codemirror_mode": {
    "name": "ipython",
    "version": 3
   },
   "file_extension": ".py",
   "mimetype": "text/x-python",
   "name": "python",
   "nbconvert_exporter": "python",
   "pygments_lexer": "ipython3",
   "version": "3.7.3"
  }
 },
 "nbformat": 4,
 "nbformat_minor": 2
}
