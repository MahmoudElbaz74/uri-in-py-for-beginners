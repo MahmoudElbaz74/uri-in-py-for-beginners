{
 "cells": [
  {
   "cell_type": "code",
   "execution_count": 7,
   "metadata": {},
   "outputs": [
    {
     "name": "stdout",
     "output_type": "stream",
     "text": [
      "2\n",
      "6.5\n",
      "4\n",
      "9\n"
     ]
    }
   ],
   "source": [
    "a = float (input())\n",
    "b = float (input())\n",
    "c = float (input())\n",
    "d = float (input())"
   ]
  },
  {
   "cell_type": "code",
   "execution_count": 10,
   "metadata": {},
   "outputs": [
    {
     "name": "stdout",
     "output_type": "stream",
     "text": [
      "Media: 4.8\n"
     ]
    }
   ],
   "source": [
    "m = float((a*2 + b*3 + c*4 + d*1)/(10.0))\n",
    "m = round(m,1)\n",
    "print ('Media: {}'.format(m))"
   ]
  },
  {
   "cell_type": "code",
   "execution_count": 11,
   "metadata": {},
   "outputs": [
    {
     "name": "stdout",
     "output_type": "stream",
     "text": [
      "Aluno reprovado.\n"
     ]
    }
   ],
   "source": [
    "if (m >= 7.0):\n",
    "    print ('Aluno aprovado.')\n",
    "elif (m < 5.0):\n",
    "    print('Aluno reprovado.')\n",
    "elif (m >= 5.0) and (m < 7.0):\n",
    "    print('Aluno em exame.')\n",
    "    n = float (input(\"Nota do exame: \"))\n",
    "    q = ((m+n)/2)\n",
    "    if (q>=5.0):\n",
    "        print('Aluno aprovado.')\n",
    "    else :\n",
    "        print ('Aluno reprovado.')\n",
    "    q = round (q,1)\n",
    "    print('Media final: {}'.format(q))"
   ]
  },
  {
   "cell_type": "code",
   "execution_count": null,
   "metadata": {},
   "outputs": [],
   "source": []
  }
 ],
 "metadata": {
  "kernelspec": {
   "display_name": "Python 3",
   "language": "python",
   "name": "python3"
  },
  "language_info": {
   "codemirror_mode": {
    "name": "ipython",
    "version": 3
   },
   "file_extension": ".py",
   "mimetype": "text/x-python",
   "name": "python",
   "nbconvert_exporter": "python",
   "pygments_lexer": "ipython3",
   "version": "3.7.3"
  }
 },
 "nbformat": 4,
 "nbformat_minor": 2
}
