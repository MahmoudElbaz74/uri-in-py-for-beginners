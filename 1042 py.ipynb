{
 "cells": [
  {
   "cell_type": "code",
   "execution_count": 29,
   "metadata": {},
   "outputs": [
    {
     "name": "stdout",
     "output_type": "stream",
     "text": [
      "-14\n",
      "21\n",
      "7\n"
     ]
    }
   ],
   "source": [
    "x = int (input())\n",
    "y = int (input())\n",
    "z = int (input())\n",
    "float (m)\n",
    "list = [x,y,z]"
   ]
  },
  {
   "cell_type": "code",
   "execution_count": 30,
   "metadata": {},
   "outputs": [],
   "source": [
    "max1 = max (list) \n",
    "min1 = min (list) \n",
    "if ((x!=max1)&(x!=min1)):\n",
    "    m = x\n",
    "elif ((y!=max1)&(y!=min1)):\n",
    "    m = y\n",
    "else :\n",
    "    m = z"
   ]
  },
  {
   "cell_type": "code",
   "execution_count": 31,
   "metadata": {},
   "outputs": [
    {
     "name": "stdout",
     "output_type": "stream",
     "text": [
      "-14.0\n",
      "7.0\n",
      "21.0\n",
      "\n",
      "-14.0\n",
      "21.0\n",
      "7.0\n"
     ]
    }
   ],
   "source": [
    "print (min1)\n",
    "print (m)\n",
    "print (max1)\n",
    "print ('')\n",
    "print (x)\n",
    "print (y)\n",
    "print (z)"
   ]
  },
  {
   "cell_type": "code",
   "execution_count": null,
   "metadata": {},
   "outputs": [],
   "source": []
  }
 ],
 "metadata": {
  "kernelspec": {
   "display_name": "Python 3",
   "language": "python",
   "name": "python3"
  },
  "language_info": {
   "codemirror_mode": {
    "name": "ipython",
    "version": 3
   },
   "file_extension": ".py",
   "mimetype": "text/x-python",
   "name": "python",
   "nbconvert_exporter": "python",
   "pygments_lexer": "ipython3",
   "version": "3.7.3"
  }
 },
 "nbformat": 4,
 "nbformat_minor": 2
}
