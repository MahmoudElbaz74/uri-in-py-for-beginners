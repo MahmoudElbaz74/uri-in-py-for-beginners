{
 "cells": [
  {
   "cell_type": "code",
   "execution_count": 33,
   "metadata": {},
   "outputs": [
    {
     "name": "stdout",
     "output_type": "stream",
     "text": [
      "188\n"
     ]
    }
   ],
   "source": [
    "n = int (input())"
   ]
  },
  {
   "cell_type": "code",
   "execution_count": 36,
   "metadata": {},
   "outputs": [],
   "source": [
    "h = int (n/100)\n",
    "f = int ((n-h*100)/50)\n",
    "t = int ((n-(h*100+f*50))/20)\n",
    "e = int ((n-(h*100+f*50+t*20))/10)\n",
    "v = int ((n-(h*100+f*50+t*20+e*10))/5)\n",
    "w = int ((n-(h*100+f*50+t*20+e*10+v*5))/2)\n",
    "o = int ((n-(h*100+f*50+t*20+e*10+v*5+w*2))/1)"
   ]
  },
  {
   "cell_type": "code",
   "execution_count": 37,
   "metadata": {},
   "outputs": [
    {
     "name": "stdout",
     "output_type": "stream",
     "text": [
      "188\n",
      "1 nota(s) de R$ 100,00\n",
      "1 nota(s) de R$ 50,00\n",
      "1 nota(s) de R$ 20,00\n",
      "1 nota(s) de R$ 10,00\n",
      "1 nota(s) de R$ 5,00\n",
      "1 nota(s) de R$ 2,00\n",
      "1 nota(s) de R$ 1,00\n"
     ]
    }
   ],
   "source": [
    "print('''{}\n",
    "{} nota(s) de R$ 100,00\n",
    "{} nota(s) de R$ 50,00\n",
    "{} nota(s) de R$ 20,00\n",
    "{} nota(s) de R$ 10,00\n",
    "{} nota(s) de R$ 5,00\n",
    "{} nota(s) de R$ 2,00\n",
    "{} nota(s) de R$ 1,00'''.format(n,h,f,t,e,v,w,o))"
   ]
  },
  {
   "cell_type": "code",
   "execution_count": null,
   "metadata": {},
   "outputs": [],
   "source": []
  },
  {
   "cell_type": "code",
   "execution_count": null,
   "metadata": {},
   "outputs": [],
   "source": []
  }
 ],
 "metadata": {
  "kernelspec": {
   "display_name": "Python 3",
   "language": "python",
   "name": "python3"
  },
  "language_info": {
   "codemirror_mode": {
    "name": "ipython",
    "version": 3
   },
   "file_extension": ".py",
   "mimetype": "text/x-python",
   "name": "python",
   "nbconvert_exporter": "python",
   "pygments_lexer": "ipython3",
   "version": "3.7.3"
  }
 },
 "nbformat": 4,
 "nbformat_minor": 2
}
